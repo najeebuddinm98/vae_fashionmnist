{
 "cells": [
  {
   "cell_type": "code",
   "execution_count": 1,
   "metadata": {
    "id": "fPnZQ6IQoarT"
   },
   "outputs": [],
   "source": [
    "import numpy as np\n",
    "import matplotlib.pyplot as plt\n",
    "\n",
    "import tensorflow as tf\n",
    "from tensorflow import keras\n",
    "import keras.backend as K\n",
    "from tensorflow.keras.layers import Input, Flatten, Dense, Lambda, Reshape, Conv2D, Conv2DTranspose"
   ]
  },
  {
   "cell_type": "code",
   "execution_count": 2,
   "metadata": {
    "id": "65lgpWXvrabg"
   },
   "outputs": [],
   "source": [
    "%tensorflow_version 2.x\n",
    "%matplotlib inline"
   ]
  },
  {
   "cell_type": "markdown",
   "metadata": {
    "id": "R-KGsDfkrgg3"
   },
   "source": [
    "## Load and Process the Dataset"
   ]
  },
  {
   "cell_type": "code",
   "execution_count": 4,
   "metadata": {
    "colab": {
     "base_uri": "https://localhost:8080/"
    },
    "id": "fbCf8Zjtrj48",
    "outputId": "9de4fecc-9bad-4ccd-e13f-16acc929cdd9"
   },
   "outputs": [
    {
     "name": "stdout",
     "output_type": "stream",
     "text": [
      "(60000, 28, 28) \t (60000,)\n",
      "(10000, 28, 28) \t (10000,)\n"
     ]
    }
   ],
   "source": [
    "(X_train, y_train), (X_test, y_test) = keras.datasets.fashion_mnist.load_data()\n",
    "\n",
    "print(X_train.shape, '\\t', y_train.shape)\n",
    "print(X_test.shape, '\\t', y_test.shape)"
   ]
  },
  {
   "cell_type": "markdown",
   "metadata": {},
   "source": [
    "The pixel values in the data lie between 0 and 255. So, we need to normalise them"
   ]
  },
  {
   "cell_type": "code",
   "execution_count": 5,
   "metadata": {
    "id": "S8TxYbPEr_TP"
   },
   "outputs": [],
   "source": [
    "X_train = X_train.astype('float32') / 255\n",
    "X_test = X_test.astype('float32') / 255"
   ]
  },
  {
   "cell_type": "markdown",
   "metadata": {},
   "source": [
    "Now, we use the .`reshape()` fucntion to reshape our data in the format expected by TensorFlow layer i.e., (no of samples, width, height, no of channels)"
   ]
  },
  {
   "cell_type": "code",
   "execution_count": 6,
   "metadata": {
    "id": "3t6EctfcsIXf"
   },
   "outputs": [],
   "source": [
    "X_train = X_train.reshape((-1,28,28,1))\n",
    "X_test = X_test.reshape((-1,28,28,1))"
   ]
  },
  {
   "cell_type": "markdown",
   "metadata": {
    "id": "o-xa2i8Jsg9H"
   },
   "source": [
    "## Visualization of Samples\n",
    "We plot a few random observations"
   ]
  },
  {
   "cell_type": "code",
   "execution_count": 7,
   "metadata": {
    "colab": {
     "base_uri": "https://localhost:8080/",
     "height": 268
    },
    "id": "p6J3BW6Dsj2J",
    "outputId": "342a7908-e456-4eef-affe-1ea49a49d2bc"
   },
   "outputs": [
    {
     "data": {
      "image/png": "[encoded data removed]",
      "text/plain": [
       "<Figure size 432x288 with 4 Axes>"
      ]
     },
     "metadata": {
      "needs_background": "light",
      "tags": []
     },
     "output_type": "display_data"
    }
   ],
   "source": [
    "plt.figure(1)\n",
    "plt.subplot(221)\n",
    "plt.imshow(X_train[20][:,:,0])\n",
    "\n",
    "plt.subplot(222)\n",
    "plt.imshow(X_train[300][:,:,0])\n",
    "\n",
    "plt.subplot(223)\n",
    "plt.imshow(X_train[4000][:,:,0])\n",
    "\n",
    "plt.subplot(224)\n",
    "plt.imshow(X_train[5000][:,:,0])\n",
    "plt.show()"
   ]
  },
  {
   "cell_type": "markdown",
   "metadata": {
    "id": "PebaeBW-s7XN"
   },
   "source": [
    "## Model Architecture\n",
    "We now design our VAE model; which involves of an encoder, the latent space and a decoder. Model implementation wise, the latent space can be considered to be a part of the encoder\n",
    "\n",
    "### Encoder"
   ]
  },
  {
   "cell_type": "code",
   "execution_count": 8,
   "metadata": {
    "id": "SWlPmFD_s-aV"
   },
   "outputs": [],
   "source": [
    "enc_input = Input(shape=(28,28,1), name='encoder input')\n",
    "x = Conv2D(128, 5, padding='same', activation='relu')(enc_input)\n",
    "x = Conv2D(64, 3, padding='same', strides=2, activation='relu')(x)\n",
    "x = Conv2D(64, 3, padding='same', activation='relu')(x)\n",
    "x = Conv2D(64, 3, padding='same', activation='relu')(x)\n",
    "\n",
    "enc_shape = K.int_shape(x)"
   ]
  },
  {
   "cell_type": "code",
   "execution_count": 9,
   "metadata": {
    "id": "D9CBTssFuBN1"
   },
   "outputs": [],
   "source": [
    "x = Flatten()(x)\n",
    "x = Dense(32)(x)"
   ]
  },
  {
   "cell_type": "markdown",
   "metadata": {
    "id": "lEDmPOo6uKV6"
   },
   "source": [
    "#### Latent Space"
   ]
  },
  {
   "cell_type": "code",
   "execution_count": 10,
   "metadata": {
    "id": "CPv4BNEguMQL"
   },
   "outputs": [],
   "source": [
    "latent_dim = 2 #2D space\n",
    "\n",
    "z_mean = Dense(latent_dim, name='Z-mean')(x)\n",
    "z_logvar = Dense(latent_dim, name='Z-logvariance')(x)"
   ]
  },
  {
   "cell_type": "markdown",
   "metadata": {
    "id": "LrADefA7vgqx"
   },
   "source": [
    "We need to define a function that takes in the mean and log variance parameters and return a random sample from the resulting distribution."
   ]
  },
  {
   "cell_type": "code",
   "execution_count": 11,
   "metadata": {
    "id": "QSEatnQzu3eK"
   },
   "outputs": [],
   "source": [
    "def sampling(args):\n",
    "  mean, logvar = args\n",
    "  eps = K.random_normal([latent_dim])\n",
    "  rnd_sam = mean + K.exp(logvar/2) * eps\n",
    "  return rnd_sam"
   ]
  },
  {
   "cell_type": "markdown",
   "metadata": {},
   "source": [
    "By using a Lambda layer, we can thus define our latent space as shown below"
   ]
  },
  {
   "cell_type": "code",
   "execution_count": 12,
   "metadata": {
    "id": "2Wyuggl-vvni"
   },
   "outputs": [],
   "source": [
    "z = Lambda(sampling, output_shape=latent_dim, name='latent-space')([z_mean, z_logvar])"
   ]
  },
  {
   "cell_type": "code",
   "execution_count": 13,
   "metadata": {
    "colab": {
     "base_uri": "https://localhost:8080/"
    },
    "id": "-gw-DT3Gxsnq",
    "outputId": "a5cdb8d3-3549-4a9a-868a-2099157c3425"
   },
   "outputs": [
    {
     "name": "stdout",
     "output_type": "stream",
     "text": [
      "Model: \"encoder\"\n",
      "__________________________________________________________________________________________________\n",
      "Layer (type)                    Output Shape         Param #     Connected to                     \n",
      "==================================================================================================\n",
      "encoder input (InputLayer)      [(None, 28, 28, 1)]  0                                            \n",
      "__________________________________________________________________________________________________\n",
      "conv2d (Conv2D)                 (None, 28, 28, 128)  3328        encoder input[0][0]              \n",
      "__________________________________________________________________________________________________\n",
      "conv2d_1 (Conv2D)               (None, 14, 14, 64)   73792       conv2d[0][0]                     \n",
      "__________________________________________________________________________________________________\n",
      "conv2d_2 (Conv2D)               (None, 14, 14, 64)   36928       conv2d_1[0][0]                   \n",
      "__________________________________________________________________________________________________\n",
      "conv2d_3 (Conv2D)               (None, 14, 14, 64)   36928       conv2d_2[0][0]                   \n",
      "__________________________________________________________________________________________________\n",
      "flatten (Flatten)               (None, 12544)        0           conv2d_3[0][0]                   \n",
      "__________________________________________________________________________________________________\n",
      "dense (Dense)                   (None, 32)           401440      flatten[0][0]                    \n",
      "__________________________________________________________________________________________________\n",
      "Z-mean (Dense)                  (None, 2)            66          dense[0][0]                      \n",
      "__________________________________________________________________________________________________\n",
      "Z-logvariance (Dense)           (None, 2)            66          dense[0][0]                      \n",
      "__________________________________________________________________________________________________\n",
      "latent-space (Lambda)           (None, 2)            0           Z-mean[0][0]                     \n",
      "                                                                 Z-logvariance[0][0]              \n",
      "==================================================================================================\n",
      "Total params: 552,548\n",
      "Trainable params: 552,548\n",
      "Non-trainable params: 0\n",
      "__________________________________________________________________________________________________\n"
     ]
    }
   ],
   "source": [
    "encoder = keras.Model(enc_input, z, name='encoder')\n",
    "encoder.summary()"
   ]
  },
  {
   "cell_type": "markdown",
   "metadata": {
    "id": "-Te984czx_66"
   },
   "source": [
    "### Decoder\n",
    "Here, we need to take the randomly sampled 2D latent space vector and convert it back to the original format of the image i.e., 28x28 with a single channel"
   ]
  },
  {
   "cell_type": "code",
   "execution_count": 14,
   "metadata": {
    "id": "fOGz4qMQyBkF"
   },
   "outputs": [],
   "source": [
    "dec_input = Input(shape=(latent_dim,), name='decoder-input')\n",
    "\n",
    "true_shape = enc_shape[1:]\n",
    "\n",
    "y = Dense(np.prod(true_shape))(dec_input)\n",
    "y = Reshape(target_shape=true_shape)(y)\n",
    "y = Conv2DTranspose(64, 3, padding='same', activation='relu')(y)\n",
    "y = Conv2DTranspose(64, 3, padding='same', activation='relu')(y)\n",
    "y = Conv2DTranspose(64, 3, strides=2, padding='same', activation='relu')(y)\n",
    "y = Conv2DTranspose(128, 5, padding='same', activation='relu')(y)\n",
    "y = Conv2DTranspose(1, 5, padding='same', activation='relu')(y)"
   ]
  },
  {
   "cell_type": "code",
   "execution_count": 15,
   "metadata": {
    "colab": {
     "base_uri": "https://localhost:8080/"
    },
    "id": "TZYrb8im1IE5",
    "outputId": "15eb4605-3a76-40f6-bec5-0c889af6e0aa"
   },
   "outputs": [
    {
     "name": "stdout",
     "output_type": "stream",
     "text": [
      "Model: \"decoder\"\n",
      "_________________________________________________________________\n",
      "Layer (type)                 Output Shape              Param #   \n",
      "=================================================================\n",
      "decoder-input (InputLayer)   [(None, 2)]               0         \n",
      "_________________________________________________________________\n",
      "dense_1 (Dense)              (None, 12544)             37632     \n",
      "_________________________________________________________________\n",
      "reshape (Reshape)            (None, 14, 14, 64)        0         \n",
      "_________________________________________________________________\n",
      "conv2d_transpose (Conv2DTran (None, 14, 14, 64)        36928     \n",
      "_________________________________________________________________\n",
      "conv2d_transpose_1 (Conv2DTr (None, 14, 14, 64)        36928     \n",
      "_________________________________________________________________\n",
      "conv2d_transpose_2 (Conv2DTr (None, 28, 28, 64)        36928     \n",
      "_________________________________________________________________\n",
      "conv2d_transpose_3 (Conv2DTr (None, 28, 28, 128)       204928    \n",
      "_________________________________________________________________\n",
      "conv2d_transpose_4 (Conv2DTr (None, 28, 28, 1)         3201      \n",
      "=================================================================\n",
      "Total params: 356,545\n",
      "Trainable params: 356,545\n",
      "Non-trainable params: 0\n",
      "_________________________________________________________________\n"
     ]
    }
   ],
   "source": [
    "decoder = keras.Model(dec_input, y, name='decoder')\n",
    "decoder.summary()"
   ]
  },
  {
   "cell_type": "markdown",
   "metadata": {
    "id": "qVcnm05g1urU"
   },
   "source": [
    "### Connecting all components,"
   ]
  },
  {
   "cell_type": "code",
   "execution_count": 16,
   "metadata": {
    "colab": {
     "base_uri": "https://localhost:8080/"
    },
    "id": "TeFTgI5V10bB",
    "outputId": "89fb83aa-6bfe-4ad1-a8fd-e2fac5290e00"
   },
   "outputs": [
    {
     "name": "stdout",
     "output_type": "stream",
     "text": [
      "Model: \"VAE\"\n",
      "_________________________________________________________________\n",
      "Layer (type)                 Output Shape              Param #   \n",
      "=================================================================\n",
      "encoder input (InputLayer)   [(None, 28, 28, 1)]       0         \n",
      "_________________________________________________________________\n",
      "encoder (Functional)         (None, 2)                 552548    \n",
      "_________________________________________________________________\n",
      "decoder (Functional)         (None, 28, 28, 1)         356545    \n",
      "=================================================================\n",
      "Total params: 909,093\n",
      "Trainable params: 909,093\n",
      "Non-trainable params: 0\n",
      "_________________________________________________________________\n"
     ]
    }
   ],
   "source": [
    "enc_output = encoder(enc_input)\n",
    "dec_output = decoder(enc_output)\n",
    "\n",
    "\n",
    "vae = keras.Model(enc_input, dec_output, name='VAE')\n",
    "vae.summary()"
   ]
  },
  {
   "cell_type": "markdown",
   "metadata": {
    "id": "px760Myi2xjO"
   },
   "source": [
    "## Training\n",
    "First, we need to define a custom loss function which trains our model based to improve an error defined as the sum of reconstruction loss and KL-Divergence loss."
   ]
  },
  {
   "cell_type": "code",
   "execution_count": 17,
   "metadata": {
    "id": "CC1B70Qt2zWK"
   },
   "outputs": [],
   "source": [
    "def loss_func(z_mean, z_logvar):\n",
    "\n",
    "    def vae_reconstruction_loss(y_true, y_predict):\n",
    "        reconstruction_loss_factor = 100\n",
    "        reconstruction_loss = K.mean(K.square(y_true-y_predict), axis=[1, 2, 3])\n",
    "        return reconstruction_loss_factor * reconstruction_loss\n",
    "\n",
    "    def vae_kl_loss(z_mean, z_logvar):\n",
    "        kl_loss = -0.5 * K.sum(1.0 + z_logvar - K.square(z_mean) - K.exp(z_logvar), axis=1)\n",
    "        return kl_loss\n",
    "\n",
    "    def vae_kl_loss_metric(y_true, y_predict):\n",
    "        kl_loss = -0.5 * K.sum(1.0 + z_logvar - K.square(z_mean) - K.exp(z_logvar), axis=1)\n",
    "        return kl_loss\n",
    "\n",
    "    def vae_loss(y_true, y_predict):\n",
    "        reconstruction_loss = vae_reconstruction_loss(y_true, y_predict)\n",
    "        kl_loss = vae_kl_loss(y_true, y_predict)\n",
    "\n",
    "        loss = reconstruction_loss + kl_loss\n",
    "        return loss\n",
    "\n",
    "    return vae_loss"
   ]
  },
  {
   "cell_type": "markdown",
   "metadata": {},
   "source": [
    "We can now compile and train"
   ]
  },
  {
   "cell_type": "code",
   "execution_count": null,
   "metadata": {
    "id": "Kx2Qwquz3lDN"
   },
   "outputs": [],
   "source": [
    "opt = keras.optimizers.Adam(learning_rate=0.0001)\n",
    "vae.compile(optimizer=opt, loss=loss_func(z_mean, z_logvar))"
   ]
  },
  {
   "cell_type": "code",
   "execution_count": 19,
   "metadata": {
    "colab": {
     "base_uri": "https://localhost:8080/"
    },
    "id": "y7i4b5AL35LT",
    "outputId": "d5b1a210-2845-474b-8538-8eb6b1fa622a"
   },
   "outputs": [
    {
     "name": "stdout",
     "output_type": "stream",
     "text": [
      "Epoch 1/20\n",
      "1875/1875 [==============================] - 30s 14ms/step - loss: 8.9757 - val_loss: 7.7460\n",
      "Epoch 2/20\n",
      "1875/1875 [==============================] - 26s 14ms/step - loss: 7.6706 - val_loss: 7.5855\n",
      "Epoch 3/20\n",
      "1875/1875 [==============================] - 26s 14ms/step - loss: 7.5426 - val_loss: 7.4972\n",
      "Epoch 4/20\n",
      "1875/1875 [==============================] - 26s 14ms/step - loss: 7.4569 - val_loss: 7.4151\n",
      "Epoch 5/20\n",
      "1875/1875 [==============================] - 26s 14ms/step - loss: 7.4017 - val_loss: 7.3659\n",
      "Epoch 6/20\n",
      "1875/1875 [==============================] - 26s 14ms/step - loss: 7.3505 - val_loss: 7.3130\n",
      "Epoch 7/20\n",
      "1875/1875 [==============================] - 26s 14ms/step - loss: 7.3076 - val_loss: 7.3036\n",
      "Epoch 8/20\n",
      "1875/1875 [==============================] - 26s 14ms/step - loss: 7.2701 - val_loss: 7.2596\n",
      "Epoch 9/20\n",
      "1875/1875 [==============================] - 26s 14ms/step - loss: 7.2378 - val_loss: 7.2224\n",
      "Epoch 10/20\n",
      "1875/1875 [==============================] - 26s 14ms/step - loss: 7.2148 - val_loss: 7.2222\n",
      "Epoch 11/20\n",
      "1875/1875 [==============================] - 26s 14ms/step - loss: 7.1893 - val_loss: 7.1747\n",
      "Epoch 12/20\n",
      "1875/1875 [==============================] - 26s 14ms/step - loss: 7.1686 - val_loss: 7.2286\n",
      "Epoch 13/20\n",
      "1875/1875 [==============================] - 26s 14ms/step - loss: 7.1479 - val_loss: 7.1478\n",
      "Epoch 14/20\n",
      "1875/1875 [==============================] - 26s 14ms/step - loss: 7.1320 - val_loss: 7.1234\n",
      "Epoch 15/20\n",
      "1875/1875 [==============================] - 26s 14ms/step - loss: 7.1139 - val_loss: 7.1188\n",
      "Epoch 16/20\n",
      "1875/1875 [==============================] - 26s 14ms/step - loss: 7.1014 - val_loss: 7.1087\n",
      "Epoch 17/20\n",
      "1875/1875 [==============================] - 26s 14ms/step - loss: 7.0859 - val_loss: 7.0986\n",
      "Epoch 18/20\n",
      "1875/1875 [==============================] - 26s 14ms/step - loss: 7.0755 - val_loss: 7.1044\n",
      "Epoch 19/20\n",
      "1875/1875 [==============================] - 26s 14ms/step - loss: 7.0598 - val_loss: 7.0817\n",
      "Epoch 20/20\n",
      "1875/1875 [==============================] - 26s 14ms/step - loss: 7.0476 - val_loss: 7.0468\n"
     ]
    }
   ],
   "source": [
    "history = vae.fit(X_train, X_train, epochs=20, batch_size=32, validation_data=(X_test, X_test))"
   ]
  },
  {
   "cell_type": "markdown",
   "metadata": {},
   "source": [
    "Here, we performed naive hyperparameter tuning and achieved the above results. Whether the above loss is satisfactory or not depends on how well the model can reconstruct a given sample. This can only be gauged by visualising a few test observations."
   ]
  },
  {
   "cell_type": "markdown",
   "metadata": {
    "id": "R7jo2xW3HI0W"
   },
   "source": [
    "## Visualization of Test samples"
   ]
  },
  {
   "cell_type": "code",
   "execution_count": 30,
   "metadata": {
    "colab": {
     "base_uri": "https://localhost:8080/",
     "height": 286
    },
    "id": "fB28ZFlIHN3h",
    "outputId": "6df5d199-3a29-4462-925a-957856128e52"
   },
   "outputs": [
    {
     "name": "stdout",
     "output_type": "stream",
     "text": [
      "100\n"
     ]
    },
    {
     "data": {
      "image/png": "[encoded data removed]",
      "text/plain": [
       "<Figure size 432x288 with 4 Axes>"
      ]
     },
     "metadata": {
      "needs_background": "light",
      "tags": []
     },
     "output_type": "display_data"
    }
   ],
   "source": [
    "index = int(input())\n",
    "\n",
    "y_pred = vae.predict(X_test)\n",
    "\n",
    "plt.figure(1)\n",
    "plt.subplot(221)\n",
    "plt.imshow(X_test[index].reshape(28,28))\n",
    "\n",
    "plt.subplot(222)\n",
    "plt.imshow(y_pred[index].reshape(28,28))\n",
    "\n",
    "plt.subplot(223)\n",
    "plt.imshow(X_test[index*5].reshape(28,28))\n",
    "\n",
    "plt.subplot(224)\n",
    "plt.imshow(y_pred[index*5].reshape(28,28))\n",
    "plt.show()"
   ]
  },
  {
   "cell_type": "markdown",
   "metadata": {},
   "source": [
    "As seen above, the model is successful in reconstructing the general shape of the clothing item but finer details like text or patters are lost. For our case, this is satisfactory"
   ]
  },
  {
   "cell_type": "markdown",
   "metadata": {
    "id": "OXu4Az4HI4QM"
   },
   "source": [
    "## Downloading our models"
   ]
  },
  {
   "cell_type": "code",
   "execution_count": 31,
   "metadata": {
    "colab": {
     "base_uri": "https://localhost:8080/"
    },
    "id": "2qO7Gz92I8HZ",
    "outputId": "d241fbdf-6436-4c97-bf2c-67af3460f408"
   },
   "outputs": [
    {
     "name": "stdout",
     "output_type": "stream",
     "text": [
      "WARNING:tensorflow:Compiled the loaded model, but the compiled metrics have yet to be built. `model.compile_metrics` will be empty until you train or evaluate the model.\n",
      "WARNING:tensorflow:Compiled the loaded model, but the compiled metrics have yet to be built. `model.compile_metrics` will be empty until you train or evaluate the model.\n"
     ]
    }
   ],
   "source": [
    "keras.models.save_model(encoder, 'fm_encoder.h5')\n",
    "keras.models.save_model(decoder, 'fm_decoder.h5')\n",
    "keras.models.save_model(vae, 'fm_vae.h5')"
   ]
  },
  {
   "cell_type": "markdown",
   "metadata": {
    "id": "3VyIr9-3JlCS"
   },
   "source": [
    "## Exploring our Latent Space\n",
    "The main application of a VAE is to obtain a low dimensional latent space for our data. Theoritically, every vector in this space is a reduced version of some sample in the original feature space. Exploring the latent space may therefore allow us to find weird, unique and interesting images that may be similar to training samples. The resulting visualization would look cooler with human face datasets, cat image datasets etc, but our plots get the point across."
   ]
  },
  {
   "cell_type": "code",
   "execution_count": 33,
   "metadata": {
    "colab": {
     "base_uri": "https://localhost:8080/",
     "height": 282
    },
    "id": "O06HK2lfAAnK",
    "outputId": "10f4f1db-bfe6-4893-b362-0cf852124fcb"
   },
   "outputs": [
    {
     "data": {
      "text/plain": [
       "<matplotlib.image.AxesImage at 0x7f945c285e90>"
      ]
     },
     "execution_count": 33,
     "metadata": {
      "tags": []
     },
     "output_type": "execute_result"
    },
    {
     "data": {
      "image/png": "[encoded data removed]",
      "text/plain": [
       "<Figure size 432x288 with 1 Axes>"
      ]
     },
     "metadata": {
      "needs_background": "light",
      "tags": []
     },
     "output_type": "display_data"
    }
   ],
   "source": [
    "sample_vector = np.array([[3,7]])\n",
    "decoded_example = decoder.predict(sample_vector)\n",
    "plt.imshow(decoded_example.reshape(28,28))"
   ]
  }
 ],
 "metadata": {
  "accelerator": "GPU",
  "colab": {
   "collapsed_sections": [],
   "name": "VAE_fashion.ipynb",
   "provenance": []
  },
  "kernelspec": {
   "display_name": "Python 3",
   "language": "python",
   "name": "python3"
  },
  "language_info": {
   "codemirror_mode": {
    "name": "ipython",
    "version": 3
   },
   "file_extension": ".py",
   "mimetype": "text/x-python",
   "name": "python",
   "nbconvert_exporter": "python",
   "pygments_lexer": "ipython3",
   "version": "3.7.4"
  }
 },
 "nbformat": 4,
 "nbformat_minor": 4
}
